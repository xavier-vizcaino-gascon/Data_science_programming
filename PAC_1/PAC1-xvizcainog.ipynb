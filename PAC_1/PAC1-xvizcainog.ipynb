{
 "cells": [
  {
   "cell_type": "markdown",
   "metadata": {},
   "source": [
    "<div style=\"width: 100%; clear: both;\">\n",
    "    <div style=\"float: left; width: 50%;\">\n",
    "       <img src=\"http://www.uoc.edu/portal/_resources/common/imatges/marca_UOC/UOC_Masterbrand.jpg\", align=\"left\">\n",
    "    </div>\n",
    "</div>\n",
    "\n",
    "<div style=\"float: right; width: 50%;\">\n",
    "    <p style=\"margin: 0; padding-top: 22px; text-align:right;\">22.403 · Programació per a la ciència de dades</p>\n",
    "    <p style=\"margin: 0; text-align:right;\">Grau en Ciència de Dades Aplicada</p>\n",
    "    <p style=\"margin: 0; text-align:right; padding-button: 100px;\">Estudis d'Informàtica, Multimèdia i Telecomunicació</p>\n",
    "</div>\n",
    "\n",
    "</div>\n",
    "<div style=\"width: 100%; clear: both;\">\n",
    "<div style=\"width:100%;\">&nbsp;</div>"
   ]
  },
  {
   "cell_type": "markdown",
   "metadata": {
    "jp-MarkdownHeadingCollapsed": true,
    "tags": []
   },
   "source": [
    "Programació per a la ciència de dades - PAC1\n",
    "============================\n",
    "\n",
    "En aquest Notebook trobareu un conjunt d'exercicis que suposen la primera activitat d'avaluació continuada (PAC) de l'assignatura.\n",
    "\n",
    "Per a cada exercici, tingueu en compte que:\n",
    "* **És necessari incloure comentaris** del vostre codi, que expliquin com heu implementat la solució del problema plantejat.\n",
    "* **És imprescindible** citar les referències que heu consultat per a realitzar l'activitat.\n",
    "* Es valorarà que el codi proporcionat solucioni el problema proposat i també la qualitat del codi (comentaris, llegibilitat, claredat, ús de les estructures de dades adequades, bona nomenclatura de les variables i funcions, seguiment del PEP8, etc.).\n",
    "\n",
    "Veureu que cadascuna de les activitats té associada una puntuació, que indica el pes que té l'activitat sobre la nota de la PAC. \n",
    "\n",
    "A més a més, veureu que totes les activitats tenen una etiqueta, que indica els recursos necessaris per tal de dur-la a terme. Hi ha tres possibles etiquetes:\n",
    "\n",
    "* <span style=\"font-family: Courier New; background-color: #82b74b; color: #000000; padding: 3px; \">NM</span> **Només materials**: les eines necessàries per a realitzar l'activitat es poden trobar als materials de l'assignatura (considerarem també els materials de l'assignatura Fonaments de Programació, així com les lectures obligatòries de material extern que s'indiquen als notebooks).\n",
    "\n",
    "* <span style=\"font-family: Courier New; background-color: #ffcc5c; color: #000000; padding: 3px; \">EG</span> **Consulta externa guiada**: l'activitat pot requerir fer ús d'eines que no es troben als materials de l'assignatura, però l'enunciat conté indicacions d'on o com trobar la informació addicional necessària per resoldre l'activitat.\n",
    "\n",
    "* <span style=\"font-family: Courier New; background-color: #f2ae72; color: #000000; padding: 3px; \">EI</span> **Consulta externa independent**: l'activitat pot requerir fer ús d'eines que no es troben als materials de l'assignatura, i l'enunciat pot no incloure la descripció d'on o com trobar aquesta informació addicional. Caldrà que l'estudiant busqui aquesta informació fent servir els recursos que s'han explicat a l'assignatura.\n",
    "\n",
    "És important notar que aquestes etiquetes no indiquen el nivell de dificultat de l'exercici, sinó únicament la necessitat de consulta de documentació externa per a la seva resolució. A més, recordeu que les **etiquetes són informatives**, però podeu consultar referències externes sempre que vulgueu (encara que no s'indiqui explícitament) o pot ser que pugueu fer una activitat sense consultar cap mena de documentació. Per exemple, per resoldre una activitat que només requereixi els materials de l'assignatura, podeu consultar referències externes si voleu, ja sigui tant per ajudar-vos en la reva resolució com per ampliar el coneixement! \n",
    "\n",
    "\n",
    "---\n",
    "\n",
    "## Abans de començar\n",
    "\n",
    "Si us plau, llegiu antentament els següents paràgrafs relatius a la originalitat en les activitats de l'assignatura abans de començar a treballar en la PAC. Si teniu qualsevol dubte, dirigiu-vos al professor col·laborador de l'aula abans de seguir amb l'activitat.\n",
    "\n",
    "<div class=\"alert alert-block alert-success\">La manca d’originalitat es produeix quan en una activitat hi apareix contingut que no ha estat elaborat de forma individual per l’estudiant i no es referencia adequadament el seu origen. O bé quan, encara que el contingut extern estigui referenciat, aquest és tan extens que no és possible considerar a l’estudiant l’autor o autora de l’activitat.\n",
    "<br /><br />\n",
    "Així, alguns exemples de comportaments inadequats són pel que fa a la manca d'originalitat són:\n",
    "<ol>\n",
    "    <li>Crear la solució d'un exercici de la PAC en col·laboració entre diversos estudiants.</li>\n",
    "    <li>Incloure un exercici de la PAC que utilitzi codi trobat a internet sense citar-ne la font.</li>\n",
    "    <li>Compartir la vostra solució de la PAC amb altres estudiants de l'assignatura.</li>\n",
    "    </ol>\n",
    "</div>\n",
    "\n",
    "## Instruccions de lliurament\n",
    "\n",
    "Per tal de lliurar l'activitat és necessari que feu els següents passos:\n",
    "\n",
    "1. Comproveu que el notebook s'executa correctament a la màquina virtual. És important que abans de lliurar la vostra PAC comproveu que la versió final del codi que lliureu s'executa correctament en la seva totalitat. Per fer-ho, us recomanem fer una execució completa des de zero del notebook: feu click a *Kernel > Restart & Run All* i comproveu que el notebook s'executa correctament.\n",
    "2. Activeu les alertes d'estil i comproveu que el codi segueix les convencions d'estil de Python. Si és necessari, modifiqueu el codi per adequar-lo.\n",
    "3. Confirmeu que sou els autors únics de la PAC i que aquesta inclou totes les cites a recursos externs que s'hagin utilitzat per a elaborar-la. Per tal de confirmar que sou els autors únics de l'activitat, afegiu el vostre nom complet al paràgraf de la cel·la següent.\n",
    "4. Genereu un arxiu comprimit que inclogui tots els fitxers de la PAC (tant el fitxer amb el notebook, amb extensió .ipynb, com les carpetes amb les dades que calguin per a executar-lo). Assegureu-vos que es pot descomprimir aquest fitxer en qualsevol directori de l'ordinador i que el codi s'executa sense problemes. \n",
    "5. Lliureu la PAC a través del Registre d'Avaluació Continuada de l'aula."
   ]
  },
  {
   "cell_type": "markdown",
   "metadata": {},
   "source": [
    "<div class=\"alert alert-block alert-warning\">Jo, Xavier Vizcaino Gascon, confirmo que he elaborat de manera individual totes les activitats resoltes en aquesta PAC i que he inclòs les cites a totes les fonts externes que he utilitzat per a resoldre les activitats. </div>"
   ]
  },
  {
   "cell_type": "code",
   "execution_count": 1,
   "metadata": {},
   "outputs": [],
   "source": [
    "%load_ext pycodestyle_magic"
   ]
  },
  {
   "cell_type": "code",
   "execution_count": 2,
   "metadata": {},
   "outputs": [],
   "source": [
    "# Activem les alertes d'estil\n",
    "%pycodestyle_on\n",
    "%pycodestyle_off"
   ]
  },
  {
   "cell_type": "markdown",
   "metadata": {},
   "source": [
    "## Type hint\n",
    "\n",
    "Us recomanem resoldre aquesta PAC usant type hints. Podem entendre els type hints de Python com una solució formal per a indicar estèticament el tipus de valor dins del codi Python. Us recomanem la visualització del següent [vídeo](https://www.youtube.com/watch?v=j0dy8Q9VIPk) per a una introducció als type hints en Python, i per a entendre per què són interessants.\n",
    "\n",
    "**L'ús de type hints en la resolució de la PAC es bonificarà amb 0.5 punts addicionals (per a obtenir tota la puntuació addicional, cal implementar els type hints de totes les funcions implementades en la PAC).**"
   ]
  },
  {
   "cell_type": "markdown",
   "metadata": {},
   "source": [
    "# Exercici 1\n",
    "\n",
    "Els següents exercicis es realitzaran fent servir el dataset 'co2_emissions_canada.csv' proporcionat juntament amb la PAC, i que conté la informació sobre consum de combustible i emissions de CO2 en vehicles canadencs. Cada fila representa un vehicle. Tota la informació relativa a aquest dataset es podrà trobar en la següent [URL](https://www.kaggle.com/debajyotipodder/co2-emission-by-vehicles/version/1). Per a fer els exercicis heu d'utilitzar el dataset que us proporcionem.\n",
    "\n",
    "Els camps del dataset són:\n",
    "\n",
    "- Make: Empresa encarregada del disseny i facturació del vehicle.\n",
    "- Model: Model del vehicle.\n",
    "- Vehicle Class: Classe del vehicle, poden ser 'COMPACT', 'SUV - SMALL', 'MID-SIZE', 'TWO-SEATER', 'MINICOMPACT', 'SUBCOMPACT', 'FULL-SIZE', 'STATION WAGON - SMALL', 'SUV - STANDARD', 'VAN - CÀRREC', 'VAN - PASSENGER', 'PICKUP TRUCK - STANDARD', 'MINIVAN', 'SPECIAL PURPOSE VEHICLE', 'STATION WAGON - MID-SIZE', 'PICKUP TRUCK - SMALL'.\n",
    "- Engine Size(L): Mida del motor expressat en Litres, és a dir el volum total dels cilindres del motor.\n",
    "- Cylinders: Nombre de cilindres del motor.\n",
    "- Transmission: Tipus de transmissió del vehicle.\n",
    "- Fuel Type: Tipus de combustible que utilitza el vehicle.\n",
    "- Fuel Consumption City (L/100 km): Consum de combustible del vehicle en ciutat en litres cada 100 km.\n",
    "- Fuel Consumption Hwy (L/100 km): Consum de combustible del vehicle en autopista en litres cada 100 km.\n",
    "- Fuel Consumption Comb (L/100 km): Consum de combustible del vehicle en una combinació d'autopista i ciutat en litres cada 100 km.\n",
    "- CO2 Emissions(g/km): Emissions de CO2 en grams per quilòmetre."
   ]
  },
  {
   "cell_type": "markdown",
   "metadata": {},
   "source": [
    "1. Carregueu el dataset i mostreu per pantalla els 7 primers elements.\n",
    "2. D'aquests 7 primers elements obtinguts al punt 1, mostreu els 2 últims.\n",
    "\n",
    "*Tots els exercicis s'han de resoldre partint del dataframe obtingut en aquest apartat i no és necessari carregar-lo cada vegada que s'utilitza.*\n",
    "\n",
    "La càrrega del dataset ha de fer-se definint una funció que tingui com a paràmetre d'entrada la ruta d'accés al fitxer 'co2_emissions_canada.csv' i com a resultat retorni un dataframe.\n",
    "\n",
    "*Nota 1:* La funció per a llegir l'arxiu 'co2_emissions_canada.csv' no ha d'utilitzar rutes absolutes sinó relatives.\n",
    "\n",
    "*Nota 2:* Per a aconseguir el punt de type hints la funció ha d'estar programada fent servir type hints.\n",
    "\n",
    "*Pista 1*: Recordeu que podeu fer servir llibreries com ara 'pandas' per a carregar el conjunt de dades de manera senzilla i aconseguir un dataframe.\n",
    "\n",
    "*Pista 2*: El type hint d'un dataframe és *pd.DataFrame*\n",
    "\n",
    "<span style=\"font-family: Courier New; background-color: #82b74b; color: #000000; padding: 3px; \">NM</span> **(1 punt)**"
   ]
  },
  {
   "cell_type": "code",
   "execution_count": 3,
   "metadata": {},
   "outputs": [
    {
     "name": "stdout",
     "output_type": "stream",
     "text": [
      "Resposta 1.1\n"
     ]
    },
    {
     "data": {
      "text/html": [
       "<div>\n",
       "<style scoped>\n",
       "    .dataframe tbody tr th:only-of-type {\n",
       "        vertical-align: middle;\n",
       "    }\n",
       "\n",
       "    .dataframe tbody tr th {\n",
       "        vertical-align: top;\n",
       "    }\n",
       "\n",
       "    .dataframe thead th {\n",
       "        text-align: right;\n",
       "    }\n",
       "</style>\n",
       "<table border=\"1\" class=\"dataframe\">\n",
       "  <thead>\n",
       "    <tr style=\"text-align: right;\">\n",
       "      <th></th>\n",
       "      <th>Make</th>\n",
       "      <th>Model</th>\n",
       "      <th>Vehicle Class</th>\n",
       "      <th>Engine Size(L)</th>\n",
       "      <th>Cylinders</th>\n",
       "      <th>Transmission</th>\n",
       "      <th>Fuel Type</th>\n",
       "      <th>Fuel Consumption City (L/100 km)</th>\n",
       "      <th>Fuel Consumption Hwy (L/100 km)</th>\n",
       "      <th>Fuel Consumption Comb (L/100 km)</th>\n",
       "      <th>Fuel Consumption Comb (mpg)</th>\n",
       "      <th>CO2 Emissions(g/km)</th>\n",
       "    </tr>\n",
       "  </thead>\n",
       "  <tbody>\n",
       "    <tr>\n",
       "      <th>0</th>\n",
       "      <td>ACURA</td>\n",
       "      <td>MDX 4WD</td>\n",
       "      <td>SUV - SMALL</td>\n",
       "      <td>3.5</td>\n",
       "      <td>6</td>\n",
       "      <td>AS6</td>\n",
       "      <td>Z</td>\n",
       "      <td>12.7</td>\n",
       "      <td>9.1</td>\n",
       "      <td>11.1</td>\n",
       "      <td>25</td>\n",
       "      <td>255</td>\n",
       "    </tr>\n",
       "    <tr>\n",
       "      <th>1</th>\n",
       "      <td>ACURA</td>\n",
       "      <td>TL</td>\n",
       "      <td>MID-SIZE</td>\n",
       "      <td>3.5</td>\n",
       "      <td>6</td>\n",
       "      <td>AS6</td>\n",
       "      <td>Z</td>\n",
       "      <td>11.8</td>\n",
       "      <td>8.1</td>\n",
       "      <td>10.1</td>\n",
       "      <td>28</td>\n",
       "      <td>232</td>\n",
       "    </tr>\n",
       "    <tr>\n",
       "      <th>2</th>\n",
       "      <td>ACURA</td>\n",
       "      <td>TL AWD</td>\n",
       "      <td>MID-SIZE</td>\n",
       "      <td>3.7</td>\n",
       "      <td>6</td>\n",
       "      <td>M6</td>\n",
       "      <td>Z</td>\n",
       "      <td>13.4</td>\n",
       "      <td>9.5</td>\n",
       "      <td>11.6</td>\n",
       "      <td>24</td>\n",
       "      <td>267</td>\n",
       "    </tr>\n",
       "    <tr>\n",
       "      <th>3</th>\n",
       "      <td>ACURA</td>\n",
       "      <td>TSX</td>\n",
       "      <td>COMPACT</td>\n",
       "      <td>3.5</td>\n",
       "      <td>6</td>\n",
       "      <td>AS5</td>\n",
       "      <td>Z</td>\n",
       "      <td>12.1</td>\n",
       "      <td>8.3</td>\n",
       "      <td>10.4</td>\n",
       "      <td>27</td>\n",
       "      <td>239</td>\n",
       "    </tr>\n",
       "    <tr>\n",
       "      <th>4</th>\n",
       "      <td>ASTON MARTIN</td>\n",
       "      <td>RAPIDE</td>\n",
       "      <td>SUBCOMPACT</td>\n",
       "      <td>5.9</td>\n",
       "      <td>12</td>\n",
       "      <td>A6</td>\n",
       "      <td>Z</td>\n",
       "      <td>18.0</td>\n",
       "      <td>12.6</td>\n",
       "      <td>15.6</td>\n",
       "      <td>18</td>\n",
       "      <td>359</td>\n",
       "    </tr>\n",
       "    <tr>\n",
       "      <th>5</th>\n",
       "      <td>AUDI</td>\n",
       "      <td>ALLROAD QUATTRO</td>\n",
       "      <td>STATION WAGON - SMALL</td>\n",
       "      <td>2.0</td>\n",
       "      <td>4</td>\n",
       "      <td>AS8</td>\n",
       "      <td>Z</td>\n",
       "      <td>11.8</td>\n",
       "      <td>8.8</td>\n",
       "      <td>10.5</td>\n",
       "      <td>27</td>\n",
       "      <td>242</td>\n",
       "    </tr>\n",
       "    <tr>\n",
       "      <th>6</th>\n",
       "      <td>BENTLEY</td>\n",
       "      <td>CONTINENTAL GTC</td>\n",
       "      <td>SUBCOMPACT</td>\n",
       "      <td>6.0</td>\n",
       "      <td>12</td>\n",
       "      <td>AS8</td>\n",
       "      <td>Z</td>\n",
       "      <td>20.0</td>\n",
       "      <td>12.2</td>\n",
       "      <td>16.5</td>\n",
       "      <td>17</td>\n",
       "      <td>380</td>\n",
       "    </tr>\n",
       "  </tbody>\n",
       "</table>\n",
       "</div>"
      ],
      "text/plain": [
       "           Make            Model          Vehicle Class  Engine Size(L)  \\\n",
       "0         ACURA          MDX 4WD            SUV - SMALL             3.5   \n",
       "1         ACURA               TL               MID-SIZE             3.5   \n",
       "2         ACURA           TL AWD               MID-SIZE             3.7   \n",
       "3         ACURA              TSX                COMPACT             3.5   \n",
       "4  ASTON MARTIN           RAPIDE             SUBCOMPACT             5.9   \n",
       "5          AUDI  ALLROAD QUATTRO  STATION WAGON - SMALL             2.0   \n",
       "6       BENTLEY  CONTINENTAL GTC             SUBCOMPACT             6.0   \n",
       "\n",
       "   Cylinders Transmission Fuel Type  Fuel Consumption City (L/100 km)  \\\n",
       "0          6          AS6         Z                              12.7   \n",
       "1          6          AS6         Z                              11.8   \n",
       "2          6           M6         Z                              13.4   \n",
       "3          6          AS5         Z                              12.1   \n",
       "4         12           A6         Z                              18.0   \n",
       "5          4          AS8         Z                              11.8   \n",
       "6         12          AS8         Z                              20.0   \n",
       "\n",
       "   Fuel Consumption Hwy (L/100 km)  Fuel Consumption Comb (L/100 km)  \\\n",
       "0                              9.1                              11.1   \n",
       "1                              8.1                              10.1   \n",
       "2                              9.5                              11.6   \n",
       "3                              8.3                              10.4   \n",
       "4                             12.6                              15.6   \n",
       "5                              8.8                              10.5   \n",
       "6                             12.2                              16.5   \n",
       "\n",
       "   Fuel Consumption Comb (mpg)  CO2 Emissions(g/km)  \n",
       "0                           25                  255  \n",
       "1                           28                  232  \n",
       "2                           24                  267  \n",
       "3                           27                  239  \n",
       "4                           18                  359  \n",
       "5                           27                  242  \n",
       "6                           17                  380  "
      ]
     },
     "metadata": {},
     "output_type": "display_data"
    }
   ],
   "source": [
    "# Resposta 1\n",
    "import pandas as pd\n",
    "\n",
    "\n",
    "# Funció per carregar arxiu i generar DataFrame\n",
    "def carregar(text: str) -> pd.DataFrame:\n",
    "    return pd.read_csv(text)\n",
    "\n",
    "\n",
    "# Crida a la funció i creació de DF: dades\n",
    "dades = carregar(\"data/co2_emissions_canada.csv\")\n",
    "\n",
    "# Resposta 1.1\n",
    "print(\"Resposta 1.1\")\n",
    "display(dades.head(n=7))"
   ]
  },
  {
   "cell_type": "code",
   "execution_count": 4,
   "metadata": {},
   "outputs": [
    {
     "name": "stdout",
     "output_type": "stream",
     "text": [
      "\n",
      "Resposta 1.2\n"
     ]
    },
    {
     "data": {
      "text/html": [
       "<div>\n",
       "<style scoped>\n",
       "    .dataframe tbody tr th:only-of-type {\n",
       "        vertical-align: middle;\n",
       "    }\n",
       "\n",
       "    .dataframe tbody tr th {\n",
       "        vertical-align: top;\n",
       "    }\n",
       "\n",
       "    .dataframe thead th {\n",
       "        text-align: right;\n",
       "    }\n",
       "</style>\n",
       "<table border=\"1\" class=\"dataframe\">\n",
       "  <thead>\n",
       "    <tr style=\"text-align: right;\">\n",
       "      <th></th>\n",
       "      <th>Make</th>\n",
       "      <th>Model</th>\n",
       "      <th>Vehicle Class</th>\n",
       "      <th>Engine Size(L)</th>\n",
       "      <th>Cylinders</th>\n",
       "      <th>Transmission</th>\n",
       "      <th>Fuel Type</th>\n",
       "      <th>Fuel Consumption City (L/100 km)</th>\n",
       "      <th>Fuel Consumption Hwy (L/100 km)</th>\n",
       "      <th>Fuel Consumption Comb (L/100 km)</th>\n",
       "      <th>Fuel Consumption Comb (mpg)</th>\n",
       "      <th>CO2 Emissions(g/km)</th>\n",
       "    </tr>\n",
       "  </thead>\n",
       "  <tbody>\n",
       "    <tr>\n",
       "      <th>5</th>\n",
       "      <td>AUDI</td>\n",
       "      <td>ALLROAD QUATTRO</td>\n",
       "      <td>STATION WAGON - SMALL</td>\n",
       "      <td>2.0</td>\n",
       "      <td>4</td>\n",
       "      <td>AS8</td>\n",
       "      <td>Z</td>\n",
       "      <td>11.8</td>\n",
       "      <td>8.8</td>\n",
       "      <td>10.5</td>\n",
       "      <td>27</td>\n",
       "      <td>242</td>\n",
       "    </tr>\n",
       "    <tr>\n",
       "      <th>6</th>\n",
       "      <td>BENTLEY</td>\n",
       "      <td>CONTINENTAL GTC</td>\n",
       "      <td>SUBCOMPACT</td>\n",
       "      <td>6.0</td>\n",
       "      <td>12</td>\n",
       "      <td>AS8</td>\n",
       "      <td>Z</td>\n",
       "      <td>20.0</td>\n",
       "      <td>12.2</td>\n",
       "      <td>16.5</td>\n",
       "      <td>17</td>\n",
       "      <td>380</td>\n",
       "    </tr>\n",
       "  </tbody>\n",
       "</table>\n",
       "</div>"
      ],
      "text/plain": [
       "      Make            Model          Vehicle Class  Engine Size(L)  Cylinders  \\\n",
       "5     AUDI  ALLROAD QUATTRO  STATION WAGON - SMALL             2.0          4   \n",
       "6  BENTLEY  CONTINENTAL GTC             SUBCOMPACT             6.0         12   \n",
       "\n",
       "  Transmission Fuel Type  Fuel Consumption City (L/100 km)  \\\n",
       "5          AS8         Z                              11.8   \n",
       "6          AS8         Z                              20.0   \n",
       "\n",
       "   Fuel Consumption Hwy (L/100 km)  Fuel Consumption Comb (L/100 km)  \\\n",
       "5                              8.8                              10.5   \n",
       "6                             12.2                              16.5   \n",
       "\n",
       "   Fuel Consumption Comb (mpg)  CO2 Emissions(g/km)  \n",
       "5                           27                  242  \n",
       "6                           17                  380  "
      ]
     },
     "metadata": {},
     "output_type": "display_data"
    }
   ],
   "source": [
    "# Resposta 1.2\n",
    "print(\"\\nResposta 1.2\")\n",
    "display(dades.head(n=7).tail(n=2))"
   ]
  },
  {
   "cell_type": "markdown",
   "metadata": {},
   "source": [
    "# Exercici 2\n",
    "\n",
    "1. Creeu i mostreu, utilitzant l'estructura de dades més adequada (**justifiqueu el motiu**), totes les marques productores de vehicles que apareixen en el dataset. Només volem que les marques apareguin una vegada (les marques **NO** poden estar repetides).\n",
    "\n",
    "2. Transformeu l'estructura de dades obtinguda en l'apartat anterior en una llista i ordeneu els noms de les marques en ordre alfabètic.\n",
    "\n",
    "Partint de la llista en el punt 2 i fent servir _**list slicing**_:\n",
    "\n",
    "3. Creeu i mostreu per pantalla una llista de les marques en ordre lexicogràfic invers.\n",
    "4. Creeu i mostreu per pantalla una llista de les posicions múltiples de 7.\n",
    "\n",
    "Partint de la llista creada en el punt 2 i fent servir _**list comprehensions**_:\n",
    "\n",
    "5. Creeu i mostreu per pantalla una llista les marques amb nom de longitud major o igual a 6.\n",
    "\n",
    "6. Creeu una funció que retorni una llista de totes aquelles marques que continguin una **A** en la segona lletra de la marca, per exemple: JAGUAR. Una vegada aconseguida la llista guardeu-la en una variable i mostreu aquesta variable per consola.\n",
    "\n",
    "<span style=\"font-family: Courier New; background-color: #82b74b; color: #000000; padding: 3px; \">NM</span> **(1 punt)**"
   ]
  },
  {
   "cell_type": "code",
   "execution_count": 5,
   "metadata": {},
   "outputs": [
    {
     "name": "stdout",
     "output_type": "stream",
     "text": [
      "Resposta 2.1\n",
      "\n",
      "{'BUGATTI', 'ALFA ROMEO', 'NISSAN', 'BMW', 'DODGE', 'GENESIS', 'CHRYSLER', 'CHEVROLET', 'FORD', 'MASERATI', 'ACURA', 'SRT', 'LAMBORGHINI', 'SUBARU', 'INFINITI', 'LEXUS', 'ROLLS-ROYCE', 'LINCOLN', 'MINI', 'VOLKSWAGEN', 'PORSCHE', 'MITSUBISHI', 'TOYOTA', 'ASTON MARTIN', 'HYUNDAI', 'RAM', 'SCION', 'CADILLAC', 'JEEP', 'BENTLEY', 'VOLVO', 'GMC', 'BUICK', 'MERCEDES-BENZ', 'JAGUAR', 'AUDI', 'LAND ROVER', 'FIAT', 'HONDA', 'MAZDA', 'SMART', 'KIA'}\n"
     ]
    },
    {
     "data": {
      "text/plain": [
       "\"L'estructura de dades més adecuada per a mostrar totes les marques de\\nvehicles que apareixen en el dataset sense repeticions, és el conjunt\""
      ]
     },
     "execution_count": 5,
     "metadata": {},
     "output_type": "execute_result"
    }
   ],
   "source": [
    "# Resposta 2.1\n",
    "print(\"Resposta 2.1\\n\")\n",
    "productors = set(dades[\"Make\"])\n",
    "print(productors)\n",
    "\n",
    "# Justificació\n",
    "\"\"\"L'estructura de dades més adecuada per a mostrar totes les marques de\n",
    "vehicles que apareixen en el dataset sense repeticions, és el conjunt\"\"\""
   ]
  },
  {
   "cell_type": "code",
   "execution_count": 6,
   "metadata": {},
   "outputs": [
    {
     "name": "stdout",
     "output_type": "stream",
     "text": [
      "\n",
      "Resposta 2.2\n",
      "\n",
      "['ACURA', 'ALFA ROMEO', 'ASTON MARTIN', 'AUDI', 'BENTLEY', 'BMW', 'BUGATTI', 'BUICK', 'CADILLAC', 'CHEVROLET', 'CHRYSLER', 'DODGE', 'FIAT', 'FORD', 'GENESIS', 'GMC', 'HONDA', 'HYUNDAI', 'INFINITI', 'JAGUAR', 'JEEP', 'KIA', 'LAMBORGHINI', 'LAND ROVER', 'LEXUS', 'LINCOLN', 'MASERATI', 'MAZDA', 'MERCEDES-BENZ', 'MINI', 'MITSUBISHI', 'NISSAN', 'PORSCHE', 'RAM', 'ROLLS-ROYCE', 'SCION', 'SMART', 'SRT', 'SUBARU', 'TOYOTA', 'VOLKSWAGEN', 'VOLVO']\n"
     ]
    }
   ],
   "source": [
    "# Resposta 2.2\n",
    "print(\"\\nResposta 2.2\\n\")\n",
    "l_prod = list(productors)  # Convertim a llista\n",
    "l_prod.sort()  # Ordenem\n",
    "print(l_prod)"
   ]
  },
  {
   "cell_type": "code",
   "execution_count": 7,
   "metadata": {},
   "outputs": [
    {
     "name": "stdout",
     "output_type": "stream",
     "text": [
      "\n",
      "Resposta 2.3\n",
      "\n",
      "['VOLVO', 'VOLKSWAGEN', 'TOYOTA', 'SUBARU', 'SRT', 'SMART', 'SCION', 'ROLLS-ROYCE', 'RAM', 'PORSCHE', 'NISSAN', 'MITSUBISHI', 'MINI', 'MERCEDES-BENZ', 'MAZDA', 'MASERATI', 'LINCOLN', 'LEXUS', 'LAND ROVER', 'LAMBORGHINI', 'KIA', 'JEEP', 'JAGUAR', 'INFINITI', 'HYUNDAI', 'HONDA', 'GMC', 'GENESIS', 'FORD', 'FIAT', 'DODGE', 'CHRYSLER', 'CHEVROLET', 'CADILLAC', 'BUICK', 'BUGATTI', 'BMW', 'BENTLEY', 'AUDI', 'ASTON MARTIN', 'ALFA ROMEO', 'ACURA']\n"
     ]
    }
   ],
   "source": [
    "# Resposta 2.3\n",
    "print(\"\\nResposta 2.3\\n\")\n",
    "print(l_prod[::-1])  # Ordre invers"
   ]
  },
  {
   "cell_type": "code",
   "execution_count": 8,
   "metadata": {},
   "outputs": [
    {
     "name": "stdout",
     "output_type": "stream",
     "text": [
      "\n",
      "Resposta 2.4\n",
      "\n",
      "['BUICK', 'GENESIS', 'KIA', 'MERCEDES-BENZ', 'SCION']\n"
     ]
    }
   ],
   "source": [
    "# Resposta 2.4\n",
    "print(\"\\nResposta 2.4\\n\")\n",
    "print(l_prod[7::7])  # Multiples de 7 començant per la posició amb index = 7"
   ]
  },
  {
   "cell_type": "code",
   "execution_count": 9,
   "metadata": {},
   "outputs": [
    {
     "name": "stdout",
     "output_type": "stream",
     "text": [
      "\n",
      "Resposta 2.5\n",
      "\n",
      "['ALFA ROMEO', 'ASTON MARTIN', 'BENTLEY', 'BUGATTI', 'CADILLAC', 'CHEVROLET', 'CHRYSLER', 'GENESIS', 'HYUNDAI', 'INFINITI', 'JAGUAR', 'LAMBORGHINI', 'LAND ROVER', 'LINCOLN', 'MASERATI', 'MERCEDES-BENZ', 'MITSUBISHI', 'NISSAN', 'PORSCHE', 'ROLLS-ROYCE', 'SUBARU', 'TOYOTA', 'VOLKSWAGEN']\n"
     ]
    }
   ],
   "source": [
    "# Resposta 2.5\n",
    "print(\"\\nResposta 2.5\\n\")\n",
    "print([x for x in l_prod if len(x) >= 6])  # Longitud nom > 6"
   ]
  },
  {
   "cell_type": "code",
   "execution_count": 10,
   "metadata": {},
   "outputs": [
    {
     "name": "stdout",
     "output_type": "stream",
     "text": [
      "\n",
      "Resposta 2.6\n",
      "\n",
      "['CADILLAC', 'JAGUAR', 'LAMBORGHINI', 'LAND ROVER', 'MASERATI', 'MAZDA', 'RAM']\n"
     ]
    }
   ],
   "source": [
    "# Resposta 2.6\n",
    "def llista_A(llista: list) -> list:\n",
    "    # Cadena de caracters comenci per \"A\"\n",
    "    return [x for x in llista if x[1] == \"A\"]\n",
    "\n",
    "\n",
    "print(\"\\nResposta 2.6\\n\")\n",
    "print(llista_A(l_prod))"
   ]
  },
  {
   "cell_type": "markdown",
   "metadata": {},
   "source": [
    "# Exercici 3\n",
    "\n",
    "Disposem d'un conjunt de fabricants que han de ser notificats a causa de les elevades emissions que emeten els seus cotxes. Però desafortunadament, en la nostra entitat, només disposem d'una única persona encarregada de posar-se en contacte amb els fabricants d'aquests vehicles. Per a facilitar el seu treball hem de generar un sistema en el qual emmagatzemem el nom del fabricant i cada vegada que la persona encarregada es posa en contacte amb el fabricant aquest és eliminat del sistema. A més hem de tenir en compte que el fabricant que porti més temps en el sistema ha de ser el següent a ser notificat.\n",
    "\n",
    "<div class=\"alert alert-block alert-success\"> Per a aquest exercici no és necessari utilitzar les dades del dataframe, ja que encara que utilitzem aquestes dades, ja se us donen durant aquest enunciat per a facilitar el desenvolupament de la PAC.</div>\n",
    "\n",
    "1) Quina estructura de dades seria la més adequada per a representar el nostre sistema? Raoneu la resposta.\n",
    "\n",
    "2) Suposem que hem descobert tres fabricants amb alts nivells d'emissions de CO2, i han estat descoberts en el següent ordre: \"JEEP\", \"LAMBORGHINI\", \"BUGATTI\". El primer fabricant ja ha estat contactat. Reproduïu el procés usant l'estructura de dades que heu definit en l'apartat 1.\n",
    "\n",
    "3) Algunes vegades és necessari cridar a l'últim fabricant afegit al sistema, pel fet que s'han trobat emissions massa altes, i intentar trobar una solució ràpidament amb el fabricant. Quina estructura de dades seria la més adequada per a representar aquest sistema? Raoneu la resposta. Repetiu l'exemple 2, per a aquesta estructura de dades.\n",
    "\n",
    "*Nota:* L'exercici 3.2 ha de ser resolt, partint de l'estructura definida en l'apartat 3.1.\n",
    "\n",
    "<span style=\"font-family: Courier New; background-color: #82b74b; color: #000000; padding: 3px; \">NM</span> **(1 punt)**"
   ]
  },
  {
   "cell_type": "markdown",
   "metadata": {},
   "source": [
    "# Resposta 3.1 "
   ]
  },
  {
   "cell_type": "code",
   "execution_count": 11,
   "metadata": {},
   "outputs": [
    {
     "data": {
      "text/plain": [
       "\"Donat que s'han de notificar primer els fabricants que portin més temps\\nen el sistema, l'estructura de dades més adecuada seria una CUA (QUEUE),\\ndonada la seva manera de treballar FIFO (First In First Out). D'aquesta manera\\ngarantim el sistema processa el fabricant que porta més temps en la cua\""
      ]
     },
     "execution_count": 11,
     "metadata": {},
     "output_type": "execute_result"
    }
   ],
   "source": [
    "# Resposta 3.1\n",
    "\"\"\"Donat que s'han de notificar primer els fabricants que portin més temps\n",
    "en el sistema, l'estructura de dades més adecuada seria una CUA (QUEUE),\n",
    "donada la seva manera de treballar FIFO (First In First Out). D'aquesta manera\n",
    "garantim el sistema processa el fabricant que porta més temps en la cua\"\"\""
   ]
  },
  {
   "cell_type": "markdown",
   "metadata": {},
   "source": [
    "# Resposta 3.2"
   ]
  },
  {
   "cell_type": "code",
   "execution_count": 12,
   "metadata": {
    "scrolled": true
   },
   "outputs": [
    {
     "name": "stdout",
     "output_type": "stream",
     "text": [
      "Els fabricants ['LAMBORGHINI', 'BUGATTI'] romanen a la cua\n"
     ]
    },
    {
     "data": {
      "text/plain": [
       "'LAMBORGHINI'"
      ]
     },
     "execution_count": 12,
     "metadata": {},
     "output_type": "execute_result"
    }
   ],
   "source": [
    "# Resposta 3.2\n",
    "alts_nivells = [\"JEEP\", \"LAMBORGHINI\", \"BUGATTI\"]\n",
    "\n",
    "# Com que el primer fabricant ja ha estat contactat...\n",
    "alts_nivells.pop(0)\n",
    "\n",
    "# Per tant queden els següents fabricants a la cua\n",
    "print(\"Els fabricants {} romanen a la cua\".format(alts_nivells))\n",
    "\n",
    "# Si es descobrís un nou fabricant amb nivell elevat d'emissions...\n",
    "alts_nivells.append(\"nou_fabricant\")\n",
    "\n",
    "# Si, pel contrari; abans de descobrir un nou fabricant es pogués processar\n",
    "# el contacte amb una altre client, el següen pas seria:\n",
    "alts_nivells.pop(0)"
   ]
  },
  {
   "cell_type": "markdown",
   "metadata": {},
   "source": [
    "# Resposta 3.3"
   ]
  },
  {
   "cell_type": "code",
   "execution_count": 13,
   "metadata": {},
   "outputs": [
    {
     "data": {
      "text/plain": [
       "\"Donat que en algunes circumstàncies, s'ha de notificar urgentment\\nl'últim fabricant afegit al sistema per tenir unes emission massa altres,\\nl'estructura de dades més adecuada seria una PILA (STACK), donada la seva\\nmanera de treballar FILO (First In Last Out). D'aquesta manera garantim que\\nel sistema processa l'últim fabricant que ha entrat en el sistema.\""
      ]
     },
     "execution_count": 13,
     "metadata": {},
     "output_type": "execute_result"
    }
   ],
   "source": [
    "# Resposta 3.3\n",
    "\"\"\"Donat que en algunes circumstàncies, s'ha de notificar urgentment\n",
    "l'últim fabricant afegit al sistema per tenir unes emission massa altres,\n",
    "l'estructura de dades més adecuada seria una PILA (STACK), donada la seva\n",
    "manera de treballar FILO (First In Last Out). D'aquesta manera garantim que\n",
    "el sistema processa l'últim fabricant que ha entrat en el sistema.\"\"\""
   ]
  },
  {
   "cell_type": "markdown",
   "metadata": {},
   "source": [
    "# Exercici 4\n",
    "\n",
    "Des del govern canadenc, ens demanen que generem un informe amb els fabricants i vehicles que més emissions generen, per a realitzar aquest informe hem de:\n",
    "\n",
    "1. Mostrar per pantalla el nom de tots els fabricants que tenen vehicles que emeten més de 400.000 g/km (sense repeticions).\n",
    "\n",
    "2. Dels fabricants obtinguts anteriorment, sabem que \"BUGATTI\" és el fabricant que més emissions de CO2 genera. Ara hem d'identificar quin model és el que més emissions genera. Realitzeu aquest apartat fent servir una funció que com a paràmetre d'entrada tingui el dataframe obtingut en l'exercici 1 i com a resultat retorni el model i les emissions de CO2 amb la següent estructura \"The model {model} generates {emissions} g/km of CO2\"\n",
    "\n",
    "**Nota 1:** La funció generada en l'apartat dos retorna un string i no ha de fer un print, el print s'ha de fer després de guardar el string aconseguit en una variable.\n",
    "\n",
    "<span style=\"font-family: Courier New; background-color: #82b74b; color: #000000; padding: 3px; \">NM</span> **(1 punt)**"
   ]
  },
  {
   "cell_type": "code",
   "execution_count": 14,
   "metadata": {},
   "outputs": [
    {
     "name": "stdout",
     "output_type": "stream",
     "text": [
      "Resposta 4.1\n",
      "\n",
      "['BUGATTI', 'MERCEDES-BENZ', 'LAMBORGHINI', 'ASTON MARTIN', 'JEEP', 'BENTLEY', 'ROLLS-ROYCE', 'CHEVROLET', 'FORD', 'GMC']\n"
     ]
    }
   ],
   "source": [
    "# Resposta 4.1\n",
    "print(\"Resposta 4.1\\n\")\n",
    "# Selecció de registres que d'acord a la condició\n",
    "elevat = dades.loc[dades[\"CO2 Emissions(g/km)\"] > 400]\n",
    "# Obtenim columna \"Make\", treiem repetits i llistem\n",
    "print(list(set(elevat[\"Make\"])))\n",
    "\n",
    "# REFERENCIES 4.1\n",
    "# https://pandas.pydata.org/Pandas_Cheat_Sheet.pdf\n",
    "# https://pandas.pydata.org/docs/reference/api/pandas.DataFrame.loc.html"
   ]
  },
  {
   "cell_type": "code",
   "execution_count": 15,
   "metadata": {},
   "outputs": [
    {
     "name": "stdout",
     "output_type": "stream",
     "text": [
      "\n",
      "Resposta 4.2\n",
      "\n",
      "The model CHIRON generates 522 g/km of CO2\n"
     ]
    }
   ],
   "source": [
    "# Resposta 4.2\n",
    "\n",
    "\n",
    "def max_CO(df: pd.DataFrame) -> str:\n",
    "    # Busquem el valor màxim d'emissions\n",
    "    CO2_max: int = max(df[\"CO2 Emissions(g/km)\"])\n",
    "    # Busquem el registre amb el maxim\n",
    "    max_data: pd.DataFrame = df.loc[df[\"CO2 Emissions(g/km)\"] == CO2_max]\n",
    "    # Extraiem el model\n",
    "    model: str = max_data.iat[0, 1]\n",
    "    out = \"The model {model} generates {emissions} g/km of CO2\".format(\n",
    "        model=model, emissions=CO2_max)\n",
    "    return out\n",
    "\n",
    "\n",
    "Exercici4_2 = max_CO(dades)\n",
    "print(\"\\nResposta 4.2\\n\")\n",
    "print(Exercici4_2)\n",
    "\n",
    "# REFERENCIES 4.2\n",
    "# https://pandas.pydata.org/Pandas_Cheat_Sheet.pdf\n",
    "# https://pandas.pydata.org/docs/reference/api/pandas.DataFrame.iat.html"
   ]
  },
  {
   "cell_type": "markdown",
   "metadata": {},
   "source": [
    "# Exercici 5\n",
    "\n",
    "Segons l'últim report generat pel ministeri de transport del Canadà, Toyota ha estat la marca més venuda l'any 2020 (any en què es va recol·lectar la informació). Per aquest motiu ens demanen:\n",
    "\n",
    "1. Creeu una llista amb tots els models (sense repeticions) dels cotxes que hagin consumit més de 16 l als 100 km en ciutat.\n",
    "\n",
    "2. Calculeu la mitjana de les emissions de CO2 en ciutat vehicles Toyota. Per a fer-ho definiu una funció que tingui com a paràmetre d'entrada el dataFrame obtingut en el primer exercici i el nom del fabricant del qual es desitgen calcular les emissions en ciutat i com a resultat retorni la mitjana d'emissions de CO2 (float).\n",
    "\n",
    "<span style=\"font-family: Courier New; background-color: #82b74b; color: #000000; padding: 3px; \">NM</span> **(1 punt)**"
   ]
  },
  {
   "cell_type": "code",
   "execution_count": 16,
   "metadata": {},
   "outputs": [
    {
     "name": "stdout",
     "output_type": "stream",
     "text": [
      "Resposta 5.1\n",
      "\n",
      "Els models de TOYOTA amb un consum superior a 16L/100km en ciutat son ['SEQUOIA 4WD', 'TUNDRA 4WD', 'TUNDRA']\n"
     ]
    }
   ],
   "source": [
    "# Resposta 5.1\n",
    "\n",
    "# Filtrem toyotas amb consum ciutat > 16 i extreiem el model\n",
    "out = list(set(dades.loc[(dades[\"Fuel Consumption City (L/100 km)\"] > 16)\n",
    "                         & (dades[\"Make\"] == \"TOYOTA\")][\"Model\"]))\n",
    "\n",
    "print(\"Resposta 5.1\\n\")\n",
    "print(\"Els models de TOYOTA amb un consum superior a 16L/100km \\\n",
    "en ciutat son {}\".format(out))"
   ]
  },
  {
   "cell_type": "code",
   "execution_count": 17,
   "metadata": {},
   "outputs": [
    {
     "name": "stdout",
     "output_type": "stream",
     "text": [
      "Resposta 5.2\n",
      "\n",
      "El consum en ciutat com a indicatiu de les emissions de CO2 dels vehicles TOYOTA és de 10.02 L/100km\n"
     ]
    }
   ],
   "source": [
    "# Resposta 5.2\n",
    "\n",
    "\n",
    "def emissions(df: pd.DataFrame, fab: str) -> float:\n",
    "    # Filtrem per fabricant i obtenim Fuel consumption on apliquem la mitja\n",
    "    return df.loc[df[\"Make\"] == fab][\"Fuel Consumption City (L/100 km)\"].mean()\n",
    "\n",
    "\n",
    "print(\"Resposta 5.2\\n\")\n",
    "print(\"El consum en ciutat com a indicatiu de les emissions de CO2 \\\n",
    "dels vehicles TOYOTA és de {:.2f} L/100km\".format(emissions(dades, \"TOYOTA\")))"
   ]
  },
  {
   "cell_type": "markdown",
   "metadata": {},
   "source": [
    "# Exercici 6\n",
    "\n",
    "1) Calculeu fent servir una única expressió la mitjana d'emissions de CO2 per a vehicles de classe 'SUBCOMPACT'.\n",
    "\n",
    "2) Calculeu fent servir una única expressió la mitjana de consum de combustible combinat, per a vehicles que tinguin una grandària de motor més gran o igual a 6 i el nombre de cilindres sigui major que 8.\n",
    "\n",
    "Recordeu que podeu utilitzar llibreries científiques per a realitzar càlculs de manera senzilla.\n",
    "\n",
    "<span style=\"font-family: Courier New; background-color: #ffcc5c; color: #000000; padding: 3px; \">EG</span> **(1 punt)**"
   ]
  },
  {
   "cell_type": "code",
   "execution_count": 18,
   "metadata": {},
   "outputs": [
    {
     "name": "stdout",
     "output_type": "stream",
     "text": [
      "Resposta 6.1\n",
      "\n",
      "La mitjana d'emissions de CO2 es de 254.1224 g/km\n"
     ]
    }
   ],
   "source": [
    "# Resposta 6.1\n",
    "# Filtrem registres SUBCOMPACT, obtenim emissions i en fem la mitja\n",
    "print(\"Resposta 6.1\\n\")\n",
    "print(\"La mitjana d'emissions de CO2 es de {:.4f} g/km\".format(\n",
    "    dades[dades[\"Vehicle Class\"] == \"SUBCOMPACT\"]\n",
    "    [\"CO2 Emissions(g/km)\"].mean()))"
   ]
  },
  {
   "cell_type": "code",
   "execution_count": 19,
   "metadata": {},
   "outputs": [
    {
     "name": "stdout",
     "output_type": "stream",
     "text": [
      "Resposta 6.2\n",
      "\n",
      "El consum de combustible es de 16.66 L/100km\n"
     ]
    }
   ],
   "source": [
    "# Resposta 6.2\n",
    "# Obtenim registres que compleixen ambdues condicions\n",
    "# Ens quedem amb la columna consum i en fem la mitja\n",
    "print(\"Resposta 6.2\\n\")\n",
    "print(\"El consum de combustible es de {:.2f} L/100km\"\n",
    "      .format(dades[(dades[\"Engine Size(L)\"] >= 6) & (\n",
    "          dades[\"Cylinders\"] > 8)][\"Fuel Consumption Comb (L/100 km)\"].mean()))\n",
    "\n",
    "\n",
    "# REFERENCIES 6.1 & 6.2\n",
    "# https://pandas.pydata.org/Pandas_Cheat_Sheet.pdf\n",
    "# https://pandas.pydata.org/pandas-docs/stable/reference/api/pandas.DataFrame.mean.html"
   ]
  },
  {
   "cell_type": "markdown",
   "metadata": {},
   "source": [
    "# Exercici 7\n",
    "\n",
    "Durant el procés d'anàlisi de dades, l'equip d'anàlisi de dades, s'ha adonat que no es poden analitzar les emissions de CO2 per zones horàries, ni per dies de la setmana. A causa d'això ens demanen que dissenyem una funció que donat un fabricant i model es pugui afegir una data i hora amb el format '\"Year-month-day Hour:Minute:Second\"'. Per a això, definiu una funció que tingui com a paràmetre d'entrada el dataset obtingut en el primer apartat, el nom del fabricant, el model del vehicle i la data i hora com string amb el format '\"Year-month-day Hour:Minute:Second\"'. La funció ha de retornar un diccionari amb el següent format:\n",
    "\n",
    "```{py}\n",
    "dictionary = {'Make': str,\n",
    "'Model': str,\n",
    "'Vehicle Class': str,\n",
    "'Engine Size(L)': float\n",
    "'Cylinders': int,\n",
    "'Transmission': str,\n",
    "'Fuel Type': str,\n",
    "'Fuel Consumption City (L/100 km)': float,\n",
    "'Fuel Consumption Hwy (L/100 km)': float,\n",
    "'Fuel Consumption Comb (L/100 km)': float,\n",
    "'Fuel Consumption Comb (mpg)': int,\n",
    "'CO₂ Emissions(g/km)': int,\n",
    "'dona't': datetime}\n",
    "```\n",
    "\n",
    "La solució d'aquest exercici s'ha d'executar amb els següents paràmetres:\n",
    "\n",
    "* manufacturer = \"BENTLEY\",\n",
    "* model = \"CONTINENTAL GTC\",\n",
    "* dona't = \"2020-01-27 18.24:27.243860\"\n",
    "\n",
    "<span style=\"font-family: Courier New; background-color: #82b74b; color: #000000; padding: 3px; \">NM</span> **(1 punt)**"
   ]
  },
  {
   "cell_type": "code",
   "execution_count": 20,
   "metadata": {},
   "outputs": [
    {
     "name": "stdout",
     "output_type": "stream",
     "text": [
      "Resposta 7\n",
      "\n"
     ]
    },
    {
     "data": {
      "text/plain": [
       "{'Make': 'BENTLEY',\n",
       " 'Model': 'CONTINENTAL GTC',\n",
       " 'Vehicle Class': 'SUBCOMPACT',\n",
       " 'Engine Size(L)': 6.0,\n",
       " 'Cylinders': 12,\n",
       " 'Transmission': 'AS8',\n",
       " 'Fuel Type': 'Z',\n",
       " 'Fuel Consumption City (L/100 km)': 20.0,\n",
       " 'Fuel Consumption Hwy (L/100 km)': 12.2,\n",
       " 'Fuel Consumption Comb (L/100 km)': 16.5,\n",
       " 'Fuel Consumption Comb (mpg)': 17,\n",
       " 'CO2 Emissions(g/km)': 380,\n",
       " 'Date hour': datetime.datetime(2020, 1, 27, 18, 24, 27)}"
      ]
     },
     "execution_count": 20,
     "metadata": {},
     "output_type": "execute_result"
    }
   ],
   "source": [
    "# Resposta 7\n",
    "import datetime\n",
    "\n",
    "\n",
    "def actualitzar(df: pd.DataFrame, fab: str, model: str, datahora: str) -> dict:\n",
    "    # Obtenim el registre d'acord als paràmetres d'entrada\n",
    "    linia: pd.DataFrame = df[(df[\"Make\"] == fab)\n",
    "                             & (df[\"Model\"] == model)]\n",
    "    # Amb dict comprehension, generem el diccionari iterant en les columnes\n",
    "    sortida = {col: linia.iloc[0].at[col] for col in linia.columns}\n",
    "    # Convertim string a datetime\n",
    "    datahora_in: datetime = datetime.datetime.strptime(\n",
    "        datahora, \"%Y-%m-%d %H.%M:%S.%f\")\n",
    "    # Convertim datetime en str amb el format sol·licitat\n",
    "    datahora_mid: str = datahora_in.strftime(\"%Y-%m-%d %H:%M:%S\")\n",
    "    # Convertim novament str a datetime\n",
    "    datahora_out: datetime = datetime.datetime.strptime(\n",
    "        datahora_mid, \"%Y-%m-%d %H:%M:%S\")\n",
    "    # Assignem valor datetime en el diccionari\n",
    "    sortida[\"Date hour\"] = datahora_out\n",
    "    return sortida\n",
    "\n",
    "\n",
    "print(\"Resposta 7\\n\")\n",
    "actualitzar(dades, \"BENTLEY\", \"CONTINENTAL GTC\", \"2020-01-27 18.24:27.243860\")\n",
    "\n",
    "# REFERENCIES 7\n",
    "# https://pandas.pydata.org/Pandas_Cheat_Sheet.pdf\n",
    "# https://pandas.pydata.org/docs/reference/api/pandas.DataFrame.iloc.html\n",
    "# https://pandas.pydata.org/pandas-docs/stable/reference/api/pandas.DataFrame.at.html"
   ]
  },
  {
   "cell_type": "markdown",
   "metadata": {},
   "source": [
    "# Exercici 8\n",
    "\n",
    "Utilitzant **expressions regulars**:\n",
    "\n",
    "1. Trobeu totes les classes de vehicles que continguin la cadena de caràcters \"SUV-\".\n",
    "2. Trobeu tots els models que contingui un número en el model, parint de totes les classes de vehicles.\n",
    "\n",
    "<span style=\"font-family: Courier New; background-color: #82b74b; color: #000000; padding: 3px; \">NM</span> **(1 punt)**"
   ]
  },
  {
   "cell_type": "code",
   "execution_count": 21,
   "metadata": {},
   "outputs": [
    {
     "name": "stdout",
     "output_type": "stream",
     "text": [
      "Resposta 8.1\n",
      "\n",
      "['SUV - SMALL', 'SUV - STANDARD']\n"
     ]
    }
   ],
   "source": [
    "# Resposta 8.1\n",
    "# Utilitzant unicament RE\n",
    "import re\n",
    "print(\"Resposta 8.1\\n\")\n",
    "print(re.findall(r\"SUV - \\w+\", \",\".join(set(\n",
    "    dades[\"Vehicle Class\"])), re.IGNORECASE))"
   ]
  },
  {
   "cell_type": "code",
   "execution_count": 22,
   "metadata": {
    "scrolled": true
   },
   "outputs": [
    {
     "name": "stdout",
     "output_type": "stream",
     "text": [
      "Resposta 8.2\n",
      "\n",
      "S'han trobat 882 models que contenen un o més d'un numero en el model\n",
      "\n",
      "['1500 4X4', '1500 ETORQUE', 'TIGUAN 4MOTION', '750I XDRIVE', 'E 300 4MATIC', 'AMG GLC 63 S 4MATIC+ COUPE', 'DISCOVERY SPORT P290', 'GLK 250 BLUETEC 4MATIC', '911 CARRERA 4', 'S 400 4MATIC', 'RX 350 AWD', 'GRAND CHEROKEE SRT 4X4 (MDS)', 'COOPER 5 DOOR', 'AMG C 63 COUPE', 'TACOMA 4WD D-CAB TRD OFF-ROAD/PRO', 'YUKON 4WD', 'E150 VAN FFV', 'AMG GLS 63', 'COOPER S PACEMAN ALL4', 'S80 T6 AWD', 'GS 450H', 'M4 CS', '911 TARGA 4 GTS', 'M240I XDRIVE COUPE M PERFORMANCE', '911 TURBO CABRIOLET', 'SQ5', '911 GT3', '340I', 'XC90 T5', '911 CARRERA', 'AMG C 43 4MATIC', '550I XDRIVE SEDAN', 'M760LI XDRIVE', 'RENEGADE 4X4', '230I XDRIVE CABRIOLET', '500 HATCHBACK', 'RANGE ROVER TD6 DIESEL', 'Z4 SDRIVE35IS', 'A3 CABRIOLET QUATTRO', 'V90 T6 AWD', 'V60 T5', 'M8 GRAN COUPE COMPETITION', 'WRANGLER UNLIMITED 4X4 ECODIESEL', '435I GRAN COUPE', '228I XDRIVE CABRIOLET', 'QUATTROPORTE SQ4', 'WRANGLER 4X4', 'ATLAS CROSS SPORT 4MOTION', 'S5 SPORTBACK', 'Q60 AWD RED SPORT', 'M235I XDRIVE CABRIOLET', 'IS 300 AWD', 'MAZDA3 5-DOOR', 'QX60', 'XC70 T6 AWD', 'M240I COUPE M PERFORMANCE', '428I COUPE', 'Z4 M40I', '370Z ROADSTER', '300 SRT (MDS)', 'EXPRESS 2500 PASSENGER', 'C 300 4MATIC COUPE', 'JOHN COOPER WORKS 3 DOOR', 'AMG G 65', 'RS 7', 'LS 500H', 'C 300 4MATIC CABRIOLET', 'ALPINA B7 XDRIVE LWB', 'QX70 AWD', 'COOPER CLUBMAN ALL4', '200 FFV', '300 (MDS)', 'GLS 550 4MATIC', 'CHARGER SRT 392 HEMI', '911 CARRERA S CABRIOLET', 'GLC 300 4MATIC COUPE', 'V8 VANTAGE S', 'CT4 AWD', 'RVR 4WD', 'RANGE ROVER VELAR P340', 'X2 XDRIVE28I', 'X4 M', 'QUATTROPORTE S Q4', 'SAVANA 1500 PASSENGER AWD', 'M8 CABRIOLET COMPETITION', '500 ABARTH', '428I CABRIOLET', 'RANGE ROVER LWB V8 5.0 SC FFV', '650I XDRIVE CABRIOLET', 'C 250', '535D XDRIVE', '1500 ECODIESEL HFE', 'A6 QUATTRO TDI (MODIFIED)', 'V12 VANTAGE S', 'A8L TDI (MODIFIED)', 'S60 T5', '230I XDRIVE COUPE', 'CONTINENTAL GT3-R', 'GL 350 BLUETEC 4MATIC', '911 TURBO', 'SL 63 AMG', '200 AWD FFV', 'SL 65 AMG', 'ES 350 F SPORT', 'ALPINA B6 XDRIVE GRAN COUPE', 'LS 500', 'AMG GLE 63 S 4MATIC COUPE', 'RANGER 4WD', 'IS 250 C', 'ML 550 4MATIC', 'X3 XDRIVE30I', 'AMG E 63 S 4MATIC WAGON', 'V8 VANTAGE', 'S90 T5 AWD', '228I CABRIOLET', 'RS 3', 'ML 400 4MATIC', 'S60 3.0T AWD', 'JOHN COOPER WORKS COUNTRYMAN ALL4', 'LS 460 AWD', 'Q50 AWD', 'RANGE ROVER V6 3.0 SC', 'XF 30T AWD', 'CC 4MOTION', 'XC60 AWD', 'EXPRESS 1500 PASSENGER AWD', 'S 600', 'A3', '1500 CLASSIC 4X4 FFV', 'S 63 AMG 4MATIC', '335I SEDAN', '1500 4X4 (MDS)', 'SAVANA 1500 CARGO AWD', 'C 350 4MATIC', 'E 350 CABRIOLET', 'E 450 4MATIC CABRIOLET', 'X3 XDRIVE28D', 'CLA 45 AMG', 'AMG GT 53 4MATIC+ COUPE', 'EXPRESS 2500 PASSENGER FFV', 'RANGE ROVER SPORT V8 5.0 SC FFV', '750LI XDRIVE', 'AMG S 63 4MATIC+ CABRIOLET', 'V90 CC T5 AWD', '435I CABRIOLET', '1500 4X4 FFV', 'EXPRESS 1500 PASSENGER', 'S60 AWD', '911 TARGA 4S', '4RUNNER 4WD (PART-TIME 4WD)', 'AMG CLA 45', 'M2', '528I XDRIVE', 'V60 CC AWD', 'E 400 4MATIC WAGON', 'XE P250 AWD', 'UX 200', 'GLE 350D 4MATIC COUPE', '911 TURBO S CABRIOLET', 'AMG C 63', 'M340I XDRIVE SEDAN', 'S60 T5 AWD', '328I SEDAN', 'SUBURBAN 4WD', '911 SPEEDSTER', 'S90 T5', 'IS 300', 'S 65 AMG', '640I XDRIVE GRAN COUPE', 'PANAMERA 4 EXECUTIVE', 'XTERRA 4WD', 'CT4-V', 'RANGE ROVER SPORT V6 3.0 SC', 'M235I XDRIVE COUPE', 'E 350 4MATIC COUPE', 'SILVERADO LD 4WD', 'V60 T5 AWD', 'LS 460', 'X2 M35I', 'R8 COUPE', 'CT5', 'XC60 3.0T AWD', 'DB9 GT', 'A4 ULTRA', 'MAZDA6 (SIL)', 'AMG C 63 S', 'RS 7 QUATTRO', 'MAZDA5', 'AMG E 63 S 4MATIC+', 'ESCALADE 4WD', 'CHEROKEE 4X4 ACTIVE DRIVE LOCK', '228I XDRIVE COUPE', '330I XDRIVE GRAN TURISMO', '200 AWD', 'AMG C 63 S CABRIOLET', '430I COUPE', 'RAV4 LE/XLE', 'NX 200T AWD', 'A 250 4MATIC', '330I XDRIVE SEDAN', 'C 300 4MATIC FFV', 'CORVETTE Z06', 'WRANGLER JK UNLIMITED 4X4', 'CHEROKEE 4X4 ACTIVE DRIVE I FFV', '640I XDRIVE GRAN TURISMO', '335I XDRIVE SEDAN', '435I COUPE', 'AMG GT 63 S 4MATIC+ COUPE', 'EXPRESS 1500 CARGO', 'SLK 55 AMG', 'COOPER S 5 DOOR', '428I XDRIVE CABRIOLET', 'IS 200T', 'M2 COMPETITION', 'XT4', 'XC60 T6', 'Q5 HYBRID', '124 SPIDER', 'AMG GLE 43 4MATIC', 'SIERRA 4WD', 'S60 POLESTAR', 'NX 200T AWD F SPORT', 'C 450 AMG SPORT 4MATIC', 'A6 QUATTRO', 'NV200 CARGO VAN', 'CHEROKEE 4X4 ACTIVE DRIVE I', 'X3 XDRIVE28I', 'VENZA 4WD', '740LI XDRIVE SEDAN', 'AMG E 63 S 4MATIC+ WAGON', 'A4', 'V60 CC T5 AWD', 'A3 TDI (MODIFIED)', 'M235I XDRIVE', 'G 550', 'IS 250 AWD', '4RUNNER (PART-TIME 4WD)', 'XF 20D AWD', '911 CARRERA 4S CABRIOLET', 'M3', 'S90 T6 AWD', 'GRAND CHEROKEE 4X4 FFV', '370Z', 'A8 TDI (MODIFIED)', '500L TURBO', 'SAVANA 1500 CARGO CONV', 'C 63 AMG COUPE', 'AMG CLS 63 S 4MATIC', 'CT 200H', 'LANCER 4WD', 'M6 CABRIOLET', 'RS 5 CABRIOLET', 'SIERRA 4WD AT4', 'XE P300 AWD', 'NAVIGATOR 4X4', 'S 400 4MATIC SWB', 'XC70 AWD', '1500 CLASSIC', 'CLS 63 AMG S 4MATIC', '911 CARRERA S', 'CHEROKEE 4X4 FFV', 'SIERRA LTD 4WD', '911 CARRERA 4 CABRIOLET', 'QX30 AWD', 'AMG CLS 53 4MATIC+', 'XC60 T6 AWD', 'DISCOVERY TD6 DIESEL', '328I', 'WRANGLER JK 4X4', 'XF 25T AWD', 'XC60', 'AMG E 53 4MATIC+ WAGON', '430I XDRIVE CABRIOLET', 'EXPEDITION 4X4', 'NX 300H AWD', 'GL 450 4MATIC', 'RANGE ROVER EVOQUE P300', 'RANGE ROVER 5.0 SUPERCHARGED LWB', 'OUTLANDER 4WD', 'DB11 V8', 'X5 XDRIVE35D', 'QX60 AWD', 'SAVANA 1500 PASSENGER', 'AMG S 63 4MATIC CABRIOLET', 'SANTA FE SPORT 4WD', 'QX50 AWD', 'CL 550 4MATIC', 'Q8', 'X3 M40I', 'M240I COUPE', 'B 250', 'M850I XDRIVE COUPE', 'M850I XDRIVE GRAN COUPE', '911 TURBO S EXCLUSIVE', 'Q70 AWD', 'SILVERADO 4WD', 'X5 XDRIVE40I', 'S60 INSCRIPTION T5', '328D XDRIVE', '435I XDRIVE GRAN COUPE', 'AMG GLE 63 S COUPE 4MATIC', '228I XDRIVE', 'GLE 350D 4MATIC', '340I XDRIVE', 'M850I XDRIVE CABRIOLET', 'A3 QUATTRO', 'GOLF SPORTWAGEN 4MOTION', 'SL 450', '328I XDRIVE TOURING', 'S3', 'NEW COMPASS 4X4', '535I XDRIVE GRAN TURISMO', '1500 HFE ETORQUE', 'X7 XDRIVE50I', 'RAV4 AWD', 'X1 XDRIVE28I', 'AMG S 63 4MATIC+ COUPE', 'X6 M50I', 'ATLAS 4MOTION', 'FJ CRUISER 4WD', 'E350 WAGON', 'E 350 4MATIC', 'Q60', 'E 400 4MATIC CABRIOLET', 'XC90 T6 AWD', '1500 HFE', 'GLA 45 AMG 4MATIC', '911 CARRERA GTS CABRIOLET', 'E 400 CABRIOLET', 'X7 M50I', 'E 550 COUPE', 'K900', 'AMG GL 63 S', '440I XDRIVE GRAN COUPE', 'V90 T5', '228I COUPE', 'CLS 63 AMG 4MATIC', 'RAV4 AWD TRD OFF-ROAD', 'LS 500 AWD', 'E 63 AMG 4MATIC', 'MAZDA6', '1500 ECODIESEL', 'AMG CLA 45 4MATIC', '550I XDRIVE', 'RANGE ROVER VELAR P380', 'TACOMA 4WD', '320I SEDAN', 'S60 T5 ', 'M235I', 'SLK 250', 'CLS 400 4MATIC', 'S80', 'AMG SLK 55', 'M6 COUPE', 'CL 63 AMG', 'E 450 4MATIC', '500 CABRIO TURBO', '1500 FFV', 'Q5 QUATTRO TDI (MODIFIED)', 'AMG GLC 43 4MATIC COUPE', 'S 560 4MATIC SWB', 'FRONTIER 4WD', 'S6', 'A8 QUATTRO TDI (MODIFIED)', 'GRAND CHEROKEE 4X4 DIESEL', 'G 63 AMG', 'AMG GLE 43 4MATIC COUPE', 'TUCSON 4WD', 'EXPRESS 1500 CARGO CONV', '320I XDRIVE SEDAN', 'RANGE ROVER SPORT 3.0', 'ECLIPSE CROSS 4WD', 'PATHFINDER 4WD', 'COLORADO 4WD', 'SLK 300', 'SAVANA 3500 PASSENGER FFV', 'GL 550 4MATIC', 'XC60 T5', '911 TARGA 4', 'SIERRA 4WD FFV', 'AMG C 63 CABRIOLET', 'IMPREZA 5-DOOR AWD', 'AMG C 43 4MATIC WAGON', 'X6 XDRIVE40I', 'S 550 4MATIC LWB', 'RANGE ROVER 3.0', 'V60 POLESTAR', '440I COUPE', 'MAZDA2', 'LR4', 'RANGE ROVER EVOQUE P250', 'X5 XDRIVE35I', '1500 CLASSIC FFV', 'SL 550', 'RANGE ROVER V6 3.0 SC FFV', 'GLC 300 4MATIC', '86', 'A7 QUATTRO', 'COOPER COUNTRYMAN ALL4', 'S 63 AMG COUPE', 'Q7 TDI (MODIFIED)', 'YUKON DENALI 4WD', 'M4 COUPE COMPETITION', '370Z COUPE', '500 CABRIO', 'X4 XDRIVE35I', 'V60 CC', 'A8', 'X5 M50I', 'COOPER S COUNTRYMAN  ALL4', 'XC40 T5 AWD', '300 AWD FFV', 'R8 QUATTRO', 'M4 CABRIOLET', '428I GRAN COUPE', 'XT5 AWD', 'S 550 4MATIC SWB', 'Q70', '500 ABARTH HATCHBACK', 'NX 300 AWD', 'SANTA FE 4WD', 'SEQUOIA 4WD', 'A4 ALLROAD QUATTRO', 'MAZDA3 4-DOOR', 'RANGE ROVER SPORT V6 3.0 SC FFV', 'NX 300 AWD F SPORT', 'GLE 450 AMG SPORT 4MATIC COUPE', '230I CABRIOLET', 'TAHOE 4WD', '640I XDRIVE CABRIOLET', 'MAZDA3 4-DOOR (CYLINDER DEACTIVATION)', 'G70 AWD', 'C 350', 'CLS 550 4MATIC', 'PANAMERA 4 ST', 'LS 500H AWD', 'S 450 4MATIC SWB', '500 ABARTH CABRIO', 'LS 460 L AWD', 'AMG C 43 4MATIC CABRIOLET', 'EXPRESS 1500 CARGO AWD', 'SHELBY GT350 MUSTANG', 'ML 63 AMG 4MATIC', 'SAVANA 1500 CARGO CONV AWD', 'SIERRA WT 4WD', 'EXPRESS 3500 PASSENGER FFV', '435I XDRIVE CABRIOLET', 'MAZDA6 (I-ELOOP)', 'S60 INSCRIPTION T5 AWD', 'E 450 4MATIC WAGON', 'G80 AWD', 'PATRIOT 4X4', 'Q5 TDI (MODIFIED)', 'JOHN COOPER WORKS CLUBMAN ALL4', '911 CARRERA CABRIOLET', 'S60 POLESTAR AWD', 'V90 CC T6 AWD', 'LC 500H', 'AMG GLC 63 S 4MATIC+', 'E150 WAGON FFV', 'RS 5 COUPE', 'SILVERADO EASSIST 4WD', 'COMPASS 4X4', 'E 350 4MATIC WAGON', 'RANGE ROVER LWB V8 5.0 SC', 'AMG SL 63', 'A6 ALLROAD', 'GRAND CHEROKEE 4X4 SRT', '340I XDRIVE GRAN TURISMO', 'X6 XDRIVE50I', 'AMG C 63 S COUPE', 'G90 AWD', 'ALTIMA 3.5', 'AVENTADOR COUPE LP 740', 'PATHFINDER 4WD PLATINUM', 'S60 CC T5 AWD', 'A8L QUATTRO', 'DB11 V12', 'M8 CABRIOLET', 'QX60 HYBRID AWD', 'EXPEDITION 4X4 FFV', 'WRANGLER UNLIMITED 4X4', 'WRANGLER 4X4 ETORQUE', 'S4 QUATTRO', 'AMG GLE 63 S 4MATIC', 'ALPINA B7 XDRIVE SWB', '500X', 'RAV4 LIMITED/SE AWD', 'M6', 'X3 XDRIVE35I', 'RS 5 SPORTBACK', '750LI XDRIVE SEDAN', 'X4 XDRIVE30I', 'S8', 'COOPER S COUNTRYMAN ALL4', 'RC 350 AWD', '328D XDRIVE TOURING', 'SAVANA 2500 PASSENGER', 'TUNDRA 4WD', 'E 400 HYBRID', 'AVENTADOR ROADSTER LP 740', 'LC 500', 'C 300 4MATIC', 'GLS 450 4MATIC', 'XF 3.0L AWD', '535D XDRIVE SEDAN', 'XJL PORTFOLIO 3.0 AWD', 'IS 350 AWD', '911 GT3 TOURING', 'ALPINA B7 XDRIVE', 'MAZDA3 4-DOOR (I-ELOOP)', 'S 560 4MATIC', 'PATRIOT 4X4 TRAIL RATED', 'AMG E 53 4MATIC+ CABRIOLET', 'V60 3.0T AWD', 'WRANGLER JL 4X4', 'X5 XDRIVE50I', '540I XDRIVE', 'AMG S 65 COUPE', 'SILVERADO 4WD CUSTOM TRAIL BOSS', '328I XDRIVE SEDAN', 'SQ5 QUATTRO', 'ACTIVEHYBRID 5', 'A 220 4MATIC', 'S7', 'S5 CABRIOLET QUATTRO', 'AMG E 53 4MATIC+ COUPE', 'XC60 3.2 AWD', 'M5 SEDAN', 'AMG S 63 4MATIC', 'GRAND CHEROKEE 4X4 TRACKHAWK', '750I XDRIVE SWB', 'Q50 HYBRID AWD', 'Q5', 'M760I XDRIVE SEDAN', 'RC 350', '300 FFV', 'GRAND CHEROKEE SRT8', 'AMG SL 65', 'S80 AWD', '740LD XDRIVE SEDAN', 'AMG GLA 45 4MATIC', '650I XDRIVE GRAN COUPE', 'E 63 AMG S 4MATIC', 'R8', '911 GT3RS', '911 CARRERA GTS', 'RENEGADE 4X4 TRAILHAWK', 'PANAMERA 4S', 'M240I XDRIVE COUPE', '911 CARRERA T', 'MAZDA3 5-DOOR (SIL)', 'IS 250', 'E350 WAGON FFV', 'A5 CABRIOLET QUATTRO', '550I XDRIVE GRAN TURISMO', 'S 550 4MATIC CABRIOLET', '300 AWD', 'Q7', 'EXPEDITION MAX 4X4', 'M550I XDRIVE SEDAN', 'CAMARO ZL1', 'YUKON XL DENALI 4WD', 'UX 250H AWD', '335I XDRIVE', 'COMPASS 4X4 TRAIL RATED', '500X AWD', 'GRAND CHEROKEE 4X4', 'COLORADO ZR2 4WD', '911 TURBO S', 'AMG C 43 4MATIC COUPE', 'NAVIGATOR 4X4 FFV', 'Q60 AWD COUPE', 'Q50 AWD RED SPORT', 'IS 350', '1500 4X4 DIESEL', 'MAYBACH S 600', 'C 63 AMG', 'S60 T6 AWD', 'MAYBACH S 560 4MATIC', 'VANTAGE V8', 'CLA 45 AMG 4MATIC', 'M235I CABRIOLET', 'AMG E 53 4MATIC+', 'S60 INSCRIPTION', 'AMG S 63 COUPE', 'QX80 4WD', 'WRANGLER JL UNLIMITED 4X4', 'Q50 HYBRID', 'TRAX 4WD', 'RANGE ROVER VELAR D180', 'SONIC 5', 'XF 35T AWD', 'CHEROKEE TRAILHAWK 4X4', 'MAZDA3 5-DOOR (I-ELOOP)', 'YUKON XL 4WD FFV', 'XE 35T AWD', 'AMG E 43 4MATIC', 'X6 XDRIVE35I', 'S3 QUATTRO', 'X3 M COMPETITION', 'Q50S AWD', 'X1 XDRIVE35I', '440I XDRIVE COUPE', 'TITAN 4WD PRO-4X', '530I XDRIVE SEDAN', 'SILVERADO 4WD TRAIL BOSS', 'CT5 AWD', 'XC60 T5 AWD', 'E 450 4MATIC COUPE', 'Q50S RED SPORT AWD', 'S7 QUATTRO', 'PANAMERA 4S ST', 'X5 M', 'E 400 COUPE', '200 SEDAN', '200', 'S4', 'RANGE ROVER V8 5.0 SC FFV', 'AMG S 65', 'E 250 BLUETEC 4MATIC', 'A 220', 'AMG SLC 43', 'CHEROKEE 4X4', 'XE 20D AWD', 'MAYBACH S 650', 'MAZDA3 4-DOOR (SIL)', 'CAMARO 2LS', 'ACTIVEHYBRID 3', 'SILVERADO WT 4WD', 'ACTIVEHYBRID 7L', 'AMG GT 63 4MATIC+ COUPE', 'ARMADA 4WD', 'M235I COUPE', 'Q60 CONVERTIBLE', '911 CARRERA 4 GTS', 'M5', 'C 400 4MATIC', 'MAZDA3 5-DOOR 4WD', 'CORVETTE ZR1', 'S5', '200 CONVERTIBLE', 'JOHN COOPER WORKS PACEMAN ALL4', 'RX 450H AWD', 'Z4 SDRIVE30I', '1500 4X4 ECODIESEL', 'A7 QUATTRO TDI (MODIFIED)', 'R8 SPYDER', 'XT5', 'ES 300H', 'GLA 250 4MATIC', 'GX 460', 'CT6 AWD', 'RAV4 LIMITED AWD', 'CLA 250 4MATIC', 'GHIBLI SQ4', 'SAVANA 2500 PASSENGER FFV', '530I XDRIVE', 'SLK 350', 'G70', 'AMG S 63 4MATIC COUPE', 'M8 GRAN COUPE', 'E 63 AMG S 4MATIC WAGON', '300 AWD (MDS)', '911 CARRERA 4S', '911 TURBO S EXCLUSIVE CABRIOLET', '440I XDRIVE CABRIOLET', 'E 350 COUPE', 'IMPREZA 4-DOOR AWD', 'Q50', 'AMG GLC 43 4MATIC', 'GS 350', 'MDX 4WD', '430I XDRIVE COUPE', 'A5 QUATTRO', 'ARTEON 4MOTION', 'AMG E 63 S 4MATIC', '200 SEDAN FFV', 'M240I CABRIOLET', '500 HATCHBACK TURBO', '540I XDRIVE SEDAN', 'GLE 400 4MATIC', 'M550I XDRIVE', 'PILOT 4WD', '750I XDRIVE SEDAN', 'XC60 T6  ', '328D XDRIVE SEDAN', '330I XDRIVE TOURING', 'COOPER 3 DOOR', 'PANAMERA 4', '535I XDRIVE SEDAN', 'GLADIATOR 4X4', 'S60 T6', 'RC 300 AWD', 'TACOMA 4WD D-CAB OFF-ROAD', 'YUKON 4WD FFV', 'FORTE 5', 'CLA 250', 'XC70 3.2 AWD', 'NEW WRANGLER 4X4', 'RX 450H L AWD', 'C 300 4MATIC WAGON', 'CT5-V', '500L', '1500 CLASSIC ECODIESEL', 'A5 SPORTBACK QUATTRO', 'X6 M', 'RX 350 L AWD', 'DB9', 'S8 QUATTRO', '4C COUPE', 'S60 T6   ', 'CLS 450 4MATIC', 'GS 200T F SPORT', 'Z4 SDRIVE28I', 'AMG S 65 CABRIOLET', 'Q5 HYBRID QUATTRO', 'GLE 550 4MATIC', 'CT5-V AWD', 'GRAND CHEROKEE 4X4 ECODIESEL', 'Q60 AWD', 'Q5 QUATTRO', 'S 560 4MATIC COUPE', 'ML 350 BLUETEC 4MATIC', 'RANGE ROVER SPORT TD6 DIESEL', 'Z4 SDRIVE35I', 'ESCALADE ESV 4WD', '1500 4X4 ETORQUE', 'X3 M', 'M5 COMPETITION', '760LI SEDAN', 'E 550 CABRIOLET', 'SILVERADO 4WD FFV', 'RAV4', 'XC70 T5 AWD', 'S5 QUATTRO', 'RANGE ROVER 5.0 SUPERCHARGED', 'S5 CABRIOLET', '200 CONVERTIBLE FFV', 'SONIC 5 RS', '4C SPIDER', 'WRANGLER UNLIMITED 4X4 ETORQUE', '228I', 'Q3 QUATTRO', 'XC90 T5 AWD', 'S80 T5', '528I SEDAN', 'Q60 COUPE', 'E 550 4MATIC', 'X4 XDRIVE28I', 'RAV4 HYBRID AWD', 'AMG S 63 4MATIC+', 'MAZDA6 TURBO', 'RC 200T', 'EXPRESS 1500 CARGO CONV AWD', 'RANGE ROVER V8 5.0 SC', '320I XDRIVE', 'SUBURBAN 4WD FFV', 'ES 350', 'TAHOE 4WD FFV', 'M4 COUPE', 'XJL 3.0 AWD PORTFOLIO', 'GS 350 F SPORT', 'CHEROKEE 4X4 ACTIVE DRIVE II', 'RANGE ROVER SPORT V8 5.0 SC', '760LI', 'M8 COUPE', '911 CARRERA 4 GTS CABRIOLET', '911 GT2 RS', 'ML 350 4MATIC FFV', 'UX 250H', 'NAVIGATOR L 4X4', 'SAVANA 1500 CARGO', 'M8 COUPE COMPETITION', 'SHELBY GT500 MUSTANG', '911 GT3 RS', '1500 CLASSIC 4X4 ECODIESEL', 'CT4', 'EXPEDITION EL 4X4', 'C 350 4MATIC COUPE', 'XE 25T AWD', '230I COUPE', '1500', 'Q50S RED SPORT', 'MAZDA3 4-DOOR 4WD', 'X4 M COMPETITION', 'V60 POLESTAR AWD', 'X7 XDRIVE40I', 'GL 63 AMG', 'YUKON XL 4WD', 'WRANGLER UNLIMITED 4X4 (4-DOOR)', 'CT6', 'XC90 AWD', 'RANGE ROVER VELAR P250', 'XC40 T4 AWD', 'LS 600H L', '650I XDRIVE COUPE', 'XT6 AWD', 'EXPRESS 3500 PASSENGER', 'S 560 CABRIOLET', 'AMG G 63', '528I', '320I', 'S 550 4MATIC COUPE', 'S6 QUATTRO', 'LR2', 'SAVANA 3500 PASSENGER', 'Q3', 'GS 350 AWD', 'V60 T6 AWD', 'PANAMERA 4S EXECUTIVE', '435I XDRIVE COUPE', 'MIRAGE G4', 'CLA 250 4MATIC FFV', 'XC70 T5', 'CANYON 4WD', 'S60', 'WRANGLER 4X4 (2-DOOR)', '740LI XDRIVE', 'X4 M40I', '428I XDRIVE GRAN COUPE', '500', 'NEW WRANGLER UNLIMITED 4X4', 'A 250', '328I XDRIVE', 'SLC 300', 'CAYMAN GT4', '335I', 'B 250 4MATIC', 'A8L', '430I XDRIVE GRAN COUPE', 'QX30', 'PATHFINDER HYBRID 4WD', 'AMG GLA 45', 'COOPER S 3 DOOR', '4C', '1500 DIESEL', '328I XDRIVE GRAN TURISMO', 'A4 QUATTRO', '1500 (MDS)', '528I XDRIVE SEDAN', 'GRAND CHEROKEE 4X4 (MDS)', 'M4 CABRIOLET COMPETITION', 'IS 350 C', 'SIERRA EASSIST 4WD', 'Q60S RED SPORT AWD', 'E 63 AMG 4MATIC WAGON', 'AMG S 63 CABRIOLET', 'A8 QUATTRO', 'AMG S 63', 'M6 GRAN COUPE', '300', 'SORENTO 4WD', 'Q70 HYBRID', '428I XDRIVE COUPE', '330I XDRIVE', '335I XDRIVE GRAN TURISMO', 'GHIBLI S Q4', 'AMG GLS 63 4MATIC', 'RANGE ROVER VELAR P300', 'LX 570', 'COOPER S CLUBMAN ALL4', 'E 400 4MATIC', 'M3 SEDAN', '4RUNNER 4WD', 'M760I XDRIVE', 'C 250 COUPE', '1500 CLASSIC 4X4', 'CT4-V AWD', 'GLK 350 4MATIC', 'M240I XDRIVE CABRIOLET', 'TITAN 4WD', 'GS 200T', 'C 350 COUPE', 'SILVERADO 4WD LT TRAIL BOSS', 'S 65 AMG COUPE', 'DB11 AMR', 'XT4 AWD', 'RS 5', 'E 400 4MATIC COUPE', 'DISCOVERY SPORT P250', '535I XDRIVE']\n"
     ]
    }
   ],
   "source": [
    "# Resposta 8.2\n",
    "# Combinant RE amb list comprehension\n",
    "modnum = [model for model in list(set(dades[\"Model\"]))\n",
    "          if re.match(r\"[A-Z ]*[0-9]+[A-Z ]*\", model)]\n",
    "\n",
    "print(\"Resposta 8.2\")\n",
    "print(\"\\nS'han trobat {} models que contenen un o més \\\n",
    "d'un numero en el model\\n\".format(len(modnum)))\n",
    "print(modnum)\n",
    "\n",
    "# REFERENCIES 8.2\n",
    "# https://docs.python.org/3/library/re.html"
   ]
  },
  {
   "cell_type": "markdown",
   "metadata": {},
   "source": [
    "# Exercici 9\n",
    "\n",
    "Utilitzant **Dictionary Comprehensions**, creeu un diccionari tal que:\n",
    "\n",
    "* Les seves claus corresponguin amb el camp \"Make\". Considereu només les ciutats que apareixen en les 30 primeres entrades del `co2_emissions_canada.csv`.\n",
    "\n",
    "* El valor associat amb cada clau (fabricant, columna \"Make\") sigui una llista dels models dels vehicles. És important que, per a cada fabricant, els models no apareguin repetits.\n",
    "\n",
    "<span style=\"font-family: Courier New; background-color: #82b74b; color: #000000; padding: 3px; \">NM</span> **(1 punt)**"
   ]
  },
  {
   "cell_type": "code",
   "execution_count": 23,
   "metadata": {},
   "outputs": [
    {
     "name": "stdout",
     "output_type": "stream",
     "text": [
      "Resposta 9a\n",
      "\n",
      "El diccionari resultat amb dict comprehensions és {'ACURA': ['TL AWD', 'TSX', 'MDX 4WD', 'TL'], 'ASTON MARTIN': ['RAPIDE'], 'BMW': ['528I', '760LI', '335I XDRIVE', '328I', '335I'], 'AUDI': ['ALLROAD QUATTRO'], 'CADILLAC': ['CTS-V SEDAN', 'CTS COUPE AWD', 'CTS COUPE', 'CTS SPORT WAGON AWD', 'CTS-V COUPE', 'ESCALADE AWD', 'CTS SEDAN AWD', 'CTS-V SPORT WAGON', 'ESCALADE ESV AWD', 'CTS SEDAN VSPORT', 'CTS SPORT WAGON', 'CTS SEDAN'], 'BENTLEY': ['CONTINENTAL GTC', 'CONTINENTAL GT SPEED CONVERTIBLE'], 'CHEVROLET': ['EXPRESS 1500 PASSENGER', 'EXPRESS 1500 CARGO CONV AWD', 'EXPRESS 1500 CARGO CONV', 'EXPRESS 1500 CARGO AWD', 'EXPRESS 1500 CARGO']}\n"
     ]
    }
   ],
   "source": [
    "# Resposta 9\n",
    "sd = dades.head(n=30)  # Generem dataset reduït\n",
    "\n",
    "# Solució amb dict comprehensions\n",
    "dict_fab_mod_1 = {fab: [mod for mod in list(set(\n",
    "    sd[sd[\"Make\"] == fab][\"Model\"]))] for fab in list(set(sd[\"Make\"]))}\n",
    "print(\"Resposta 9a\\n\")\n",
    "print(\"El diccionari resultat amb dict comprehensions és {}\"\n",
    "      .format(dict_fab_mod_1))"
   ]
  },
  {
   "cell_type": "code",
   "execution_count": 24,
   "metadata": {},
   "outputs": [
    {
     "name": "stdout",
     "output_type": "stream",
     "text": [
      "\n",
      "Resposta 9b\n",
      "\n",
      "El diccionari amb default dict defaultdict(<class 'list'>, {'ACURA': ['TL AWD', 'TSX', 'MDX 4WD', 'TL'], 'ASTON MARTIN': ['RAPIDE'], 'BMW': ['528I', '760LI', '335I XDRIVE', '328I', '335I'], 'AUDI': ['ALLROAD QUATTRO'], 'CADILLAC': ['CTS-V SEDAN', 'CTS COUPE AWD', 'CTS COUPE', 'CTS SPORT WAGON AWD', 'CTS-V COUPE', 'ESCALADE AWD', 'CTS SEDAN AWD', 'CTS-V SPORT WAGON', 'ESCALADE ESV AWD', 'CTS SEDAN VSPORT', 'CTS SPORT WAGON', 'CTS SEDAN'], 'BENTLEY': ['CONTINENTAL GTC', 'CONTINENTAL GT SPEED CONVERTIBLE'], 'CHEVROLET': ['EXPRESS 1500 PASSENGER', 'EXPRESS 1500 CARGO CONV AWD', 'EXPRESS 1500 CARGO CONV', 'EXPRESS 1500 CARGO AWD', 'EXPRESS 1500 CARGO']})\n"
     ]
    }
   ],
   "source": [
    "from collections import defaultdict\n",
    "\n",
    "# Solució addicional amb default dict\n",
    "dict_fab_mod_2 = defaultdict(list)  # Inicialitzem diccionari\n",
    "\n",
    "# Iterant en les columnes \"Make\" i \"Model\"\n",
    "# Afegim camps en el diccionari amb append\n",
    "for fab in list(set(sd[\"Make\"])):\n",
    "    for mod in list(set(sd[sd[\"Make\"] == fab][\"Model\"])):\n",
    "        dict_fab_mod_2[fab].append(mod)\n",
    "\n",
    "print(\"\\nResposta 9b\\n\")\n",
    "print(\"El diccionari amb default dict {}\"\n",
    "      .format(dict_fab_mod_2))"
   ]
  },
  {
   "cell_type": "markdown",
   "metadata": {},
   "source": [
    "# Exercici 10\n",
    "\n",
    "Definiu una *funció* que rebi com a paràmetres:\n",
    "\n",
    "1) DataFrame, obtingut al principi d'aquest notebook.\n",
    "\n",
    "2) Fabricant.\n",
    "\n",
    "3) Model, model del vehicle.\n",
    "\n",
    "4) Tipus de consum: Ciutat o Autopista.\n",
    "\n",
    "I retorni el consum de carburant per al tipus d'ús definit. Comproveu que la funció s'executa correctament invocant-la amb Fabricant: \"BMW\", Model: \"M8 COUPE COMPETITION\", Tipus de consum: \"City\".\n",
    "\n",
    "*Nota:* Si crideu a la funció, aquesta ha de contemplar que poden estar mal escrits els paràmetres d'entrada i ser capaç de gestionar aquests errors.\n",
    "\n",
    "<span style=\"font-family: Courier New; background-color: #82b74b; color: #000000; padding: 3px; \">SM</span> **(1 punt)**"
   ]
  },
  {
   "cell_type": "code",
   "execution_count": 25,
   "metadata": {},
   "outputs": [
    {
     "name": "stdout",
     "output_type": "stream",
     "text": [
      "Resposta 10\n",
      "\n",
      "El consum del BMW model M8 COUPE COMPETITION en cicle city és de 16.0 L/100km\n"
     ]
    }
   ],
   "source": [
    "# Resposta 10\n",
    "\n",
    "def final(df: pd.DataFrame, fab: str, model: str,\n",
    "          tipus: str = \"comb\") -> float:\n",
    "    # Cicles disponibles i relació amb columnes en el dataset\n",
    "    tipus_consums: dict = {\"city\": \"Fuel Consumption City (L/100 km)\"\n",
    "                           , \"hwy\": \"Fuel Consumption Hwy (L/100 km)\"\n",
    "                           , \"comb\": \"Fuel Consumption Comb (L/100 km)\"}\n",
    "    # Modificacions de str per coincidir amb dataset\n",
    "    fab = fab.upper()\n",
    "    model = model.upper()\n",
    "    tipus = tipus.lower()\n",
    "    # Inicialització variable de control\n",
    "    pre_check: bool = True\n",
    "\n",
    "    # Comprovar si el fabricant està en el dataset\n",
    "    try:\n",
    "        list(df[\"Make\"]).index(fab)\n",
    "    except ValueError:\n",
    "        print(\"No existeix el Make {}\".format(fab))\n",
    "        pre_check = False\n",
    "    # Comprovar si el model està en el dataset\n",
    "    try:\n",
    "        list(df[\"Model\"]).index(model)\n",
    "    except ValueError:\n",
    "        print(\"No existeix el Model {}\".format(model))\n",
    "        pre_check = False\n",
    "    # Comprovar si el cicle està entre els disponibles\n",
    "    if tipus not in tipus_consums:\n",
    "        print(\"No existeix el tipus de cicle {}\".format(tipus))\n",
    "        pre_check = False\n",
    "\n",
    "    if pre_check:\n",
    "        # Extreure registre d'acord a variables d'entrada\n",
    "        linia: pd.DataFrame = df[(df[\"Make\"] == fab)\n",
    "                                 & (df[\"Model\"] == model)]\n",
    "        # Extreure valor de la columna cicle, d'acord a variables d'entrada\n",
    "        consum: float = linia.iloc[0].at[tipus_consums[tipus]]\n",
    "        print(\"El consum del {a} model {b} en cicle {c} és de {d} L/100km\"\n",
    "              .format(a=fab, b=model, c=tipus, d=consum))\n",
    "    else:\n",
    "        print(\"Error en les dades de entrada\")\n",
    "\n",
    "\n",
    "print(\"Resposta 10\\n\")\n",
    "final(dades, \"BMW\", \"M8 COUPE COMPETITION\", \"City\")"
   ]
  }
 ],
 "metadata": {
  "kernelspec": {
   "display_name": "Python 3",
   "language": "python",
   "name": "python3"
  },
  "language_info": {
   "codemirror_mode": {
    "name": "ipython",
    "version": 3
   },
   "file_extension": ".py",
   "mimetype": "text/x-python",
   "name": "python",
   "nbconvert_exporter": "python",
   "pygments_lexer": "ipython3",
   "version": "3.8.10"
  }
 },
 "nbformat": 4,
 "nbformat_minor": 5
}
